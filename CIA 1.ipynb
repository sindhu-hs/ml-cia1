{
 "cells": [
  {
   "cell_type": "markdown",
   "id": "c1c86ef8",
   "metadata": {},
   "source": [
    "## IMPORTING REQUIRED MODULES"
   ]
  },
  {
   "cell_type": "code",
   "execution_count": 1,
   "id": "53ec6dab",
   "metadata": {},
   "outputs": [],
   "source": [
    "import pandas as pd\n",
    "import numpy as np\n",
    "import matplotlib.pyplot as plt"
   ]
  },
  {
   "cell_type": "markdown",
   "id": "090b8090",
   "metadata": {},
   "source": [
    "## CREATING DATAFRAME"
   ]
  },
  {
   "cell_type": "code",
   "execution_count": 2,
   "id": "6c8d871e",
   "metadata": {},
   "outputs": [],
   "source": [
    "np.random.seed(1)\n",
    "x=[]\n",
    "for i in range(1000):\n",
    "    x.append(np.random.rand()) \n",
    "y=[]\n",
    "w = 1\n",
    "b = 1\n",
    "for i in range(1000):\n",
    "    y.append(x[i]*w+b +(np.random.randn()*0.09))"
   ]
  },
  {
   "cell_type": "code",
   "execution_count": 3,
   "id": "2f282921",
   "metadata": {},
   "outputs": [
    {
     "data": {
      "text/html": [
       "<div>\n",
       "<style scoped>\n",
       "    .dataframe tbody tr th:only-of-type {\n",
       "        vertical-align: middle;\n",
       "    }\n",
       "\n",
       "    .dataframe tbody tr th {\n",
       "        vertical-align: top;\n",
       "    }\n",
       "\n",
       "    .dataframe thead th {\n",
       "        text-align: right;\n",
       "    }\n",
       "</style>\n",
       "<table border=\"1\" class=\"dataframe\">\n",
       "  <thead>\n",
       "    <tr style=\"text-align: right;\">\n",
       "      <th></th>\n",
       "      <th>x</th>\n",
       "      <th>y</th>\n",
       "    </tr>\n",
       "  </thead>\n",
       "  <tbody>\n",
       "    <tr>\n",
       "      <th>0</th>\n",
       "      <td>0.417022</td>\n",
       "      <td>1.482322</td>\n",
       "    </tr>\n",
       "    <tr>\n",
       "      <th>1</th>\n",
       "      <td>0.720324</td>\n",
       "      <td>1.691146</td>\n",
       "    </tr>\n",
       "    <tr>\n",
       "      <th>2</th>\n",
       "      <td>0.000114</td>\n",
       "      <td>1.073405</td>\n",
       "    </tr>\n",
       "    <tr>\n",
       "      <th>3</th>\n",
       "      <td>0.302333</td>\n",
       "      <td>1.372575</td>\n",
       "    </tr>\n",
       "    <tr>\n",
       "      <th>4</th>\n",
       "      <td>0.146756</td>\n",
       "      <td>1.014991</td>\n",
       "    </tr>\n",
       "  </tbody>\n",
       "</table>\n",
       "</div>"
      ],
      "text/plain": [
       "          x         y\n",
       "0  0.417022  1.482322\n",
       "1  0.720324  1.691146\n",
       "2  0.000114  1.073405\n",
       "3  0.302333  1.372575\n",
       "4  0.146756  1.014991"
      ]
     },
     "execution_count": 3,
     "metadata": {},
     "output_type": "execute_result"
    }
   ],
   "source": [
    "data = {\"x\": x, \n",
    "        \"y\": y}\n",
    "data = pd.DataFrame(data)\n",
    "data.head()"
   ]
  },
  {
   "cell_type": "markdown",
   "id": "282be74b",
   "metadata": {},
   "source": [
    "## RELATION BETWEEN INDEPENDENT VARIABLES"
   ]
  },
  {
   "cell_type": "code",
   "execution_count": 4,
   "id": "629bc5df",
   "metadata": {},
   "outputs": [
    {
     "data": {
      "text/html": [
       "<div>\n",
       "<style scoped>\n",
       "    .dataframe tbody tr th:only-of-type {\n",
       "        vertical-align: middle;\n",
       "    }\n",
       "\n",
       "    .dataframe tbody tr th {\n",
       "        vertical-align: top;\n",
       "    }\n",
       "\n",
       "    .dataframe thead th {\n",
       "        text-align: right;\n",
       "    }\n",
       "</style>\n",
       "<table border=\"1\" class=\"dataframe\">\n",
       "  <thead>\n",
       "    <tr style=\"text-align: right;\">\n",
       "      <th></th>\n",
       "      <th>x</th>\n",
       "      <th>y</th>\n",
       "    </tr>\n",
       "  </thead>\n",
       "  <tbody>\n",
       "    <tr>\n",
       "      <th>x</th>\n",
       "      <td>1.000000</td>\n",
       "      <td>0.953107</td>\n",
       "    </tr>\n",
       "    <tr>\n",
       "      <th>y</th>\n",
       "      <td>0.953107</td>\n",
       "      <td>1.000000</td>\n",
       "    </tr>\n",
       "  </tbody>\n",
       "</table>\n",
       "</div>"
      ],
      "text/plain": [
       "          x         y\n",
       "x  1.000000  0.953107\n",
       "y  0.953107  1.000000"
      ]
     },
     "execution_count": 4,
     "metadata": {},
     "output_type": "execute_result"
    }
   ],
   "source": [
    "data.corr()"
   ]
  },
  {
   "cell_type": "code",
   "execution_count": 5,
   "id": "0b77846e",
   "metadata": {},
   "outputs": [
    {
     "data": {
      "text/plain": [
       "<matplotlib.collections.PathCollection at 0x2bbc8e10940>"
      ]
     },
     "execution_count": 5,
     "metadata": {},
     "output_type": "execute_result"
    },
    {
     "data": {
      "image/png": "[encoded data removed]",
      "text/plain": [
       "<Figure size 640x480 with 1 Axes>"
      ]
     },
     "metadata": {},
     "output_type": "display_data"
    }
   ],
   "source": [
    "import matplotlib.pyplot as plt\n",
    "plt.scatter(data[\"x\"], data[\"y\"])"
   ]
  },
  {
   "cell_type": "markdown",
   "id": "2674975c",
   "metadata": {},
   "source": [
    "## GRADIENT DESCENT"
   ]
  },
  {
   "cell_type": "code",
   "execution_count": 31,
   "id": "a49e860c",
   "metadata": {},
   "outputs": [],
   "source": [
    "m = 0\n",
    "c = 0\n",
    "l = 0.000001\n",
    "e = 0\n",
    "error = [] \n",
    "\n",
    "for j in range(1000):\n",
    "    dm = 0\n",
    "    dc = 0\n",
    "    data[\"y_pred\"] = (m * data[\"x\"]) + c\n",
    "    \n",
    "    dm = 2 * sum(data[\"x\"] * (data[\"y\"] - data[\"y_pred\"])) * l\n",
    "    dc = 2 * sum((data[\"y\"] - data[\"y_pred\"])) * l\n",
    "    \n",
    "    m = m - (dm)\n",
    "    c = c - (dc)"
   ]
  },
  {
   "cell_type": "code",
   "execution_count": 32,
   "id": "45d13e7d",
   "metadata": {},
   "outputs": [
    {
     "data": {
      "text/plain": [
       "-7.482329724045915"
      ]
     },
     "execution_count": 32,
     "metadata": {},
     "output_type": "execute_result"
    }
   ],
   "source": [
    "m"
   ]
  },
  {
   "cell_type": "code",
   "execution_count": 33,
   "id": "fb1d726f",
   "metadata": {},
   "outputs": [
    {
     "data": {
      "text/plain": [
       "-13.845467019264888"
      ]
     },
     "execution_count": 33,
     "metadata": {},
     "output_type": "execute_result"
    }
   ],
   "source": [
    "c"
   ]
  },
  {
   "cell_type": "code",
   "execution_count": 9,
   "id": "1f53bc3b",
   "metadata": {},
   "outputs": [
    {
     "data": {
      "text/html": [
       "<style>#sk-container-id-1 {color: black;background-color: white;}#sk-container-id-1 pre{padding: 0;}#sk-container-id-1 div.sk-toggleable {background-color: white;}#sk-container-id-1 label.sk-toggleable__label {cursor: pointer;display: block;width: 100%;margin-bottom: 0;padding: 0.3em;box-sizing: border-box;text-align: center;}#sk-container-id-1 label.sk-toggleable__label-arrow:before {content: \"▸\";float: left;margin-right: 0.25em;color: #696969;}#sk-container-id-1 label.sk-toggleable__label-arrow:hover:before {color: black;}#sk-container-id-1 div.sk-estimator:hover label.sk-toggleable__label-arrow:before {color: black;}#sk-container-id-1 div.sk-toggleable__content {max-height: 0;max-width: 0;overflow: hidden;text-align: left;background-color: #f0f8ff;}#sk-container-id-1 div.sk-toggleable__content pre {margin: 0.2em;color: black;border-radius: 0.25em;background-color: #f0f8ff;}#sk-container-id-1 input.sk-toggleable__control:checked~div.sk-toggleable__content {max-height: 200px;max-width: 100%;overflow: auto;}#sk-container-id-1 input.sk-toggleable__control:checked~label.sk-toggleable__label-arrow:before {content: \"▾\";}#sk-container-id-1 div.sk-estimator input.sk-toggleable__control:checked~label.sk-toggleable__label {background-color: #d4ebff;}#sk-container-id-1 div.sk-label input.sk-toggleable__control:checked~label.sk-toggleable__label {background-color: #d4ebff;}#sk-container-id-1 input.sk-hidden--visually {border: 0;clip: rect(1px 1px 1px 1px);clip: rect(1px, 1px, 1px, 1px);height: 1px;margin: -1px;overflow: hidden;padding: 0;position: absolute;width: 1px;}#sk-container-id-1 div.sk-estimator {font-family: monospace;background-color: #f0f8ff;border: 1px dotted black;border-radius: 0.25em;box-sizing: border-box;margin-bottom: 0.5em;}#sk-container-id-1 div.sk-estimator:hover {background-color: #d4ebff;}#sk-container-id-1 div.sk-parallel-item::after {content: \"\";width: 100%;border-bottom: 1px solid gray;flex-grow: 1;}#sk-container-id-1 div.sk-label:hover label.sk-toggleable__label {background-color: #d4ebff;}#sk-container-id-1 div.sk-serial::before {content: \"\";position: absolute;border-left: 1px solid gray;box-sizing: border-box;top: 0;bottom: 0;left: 50%;z-index: 0;}#sk-container-id-1 div.sk-serial {display: flex;flex-direction: column;align-items: center;background-color: white;padding-right: 0.2em;padding-left: 0.2em;position: relative;}#sk-container-id-1 div.sk-item {position: relative;z-index: 1;}#sk-container-id-1 div.sk-parallel {display: flex;align-items: stretch;justify-content: center;background-color: white;position: relative;}#sk-container-id-1 div.sk-item::before, #sk-container-id-1 div.sk-parallel-item::before {content: \"\";position: absolute;border-left: 1px solid gray;box-sizing: border-box;top: 0;bottom: 0;left: 50%;z-index: -1;}#sk-container-id-1 div.sk-parallel-item {display: flex;flex-direction: column;z-index: 1;position: relative;background-color: white;}#sk-container-id-1 div.sk-parallel-item:first-child::after {align-self: flex-end;width: 50%;}#sk-container-id-1 div.sk-parallel-item:last-child::after {align-self: flex-start;width: 50%;}#sk-container-id-1 div.sk-parallel-item:only-child::after {width: 0;}#sk-container-id-1 div.sk-dashed-wrapped {border: 1px dashed gray;margin: 0 0.4em 0.5em 0.4em;box-sizing: border-box;padding-bottom: 0.4em;background-color: white;}#sk-container-id-1 div.sk-label label {font-family: monospace;font-weight: bold;display: inline-block;line-height: 1.2em;}#sk-container-id-1 div.sk-label-container {text-align: center;}#sk-container-id-1 div.sk-container {/* jupyter's `normalize.less` sets `[hidden] { display: none; }` but bootstrap.min.css set `[hidden] { display: none !important; }` so we also need the `!important` here to be able to override the default hidden behavior on the sphinx rendered scikit-learn.org. See: https://github.com/scikit-learn/scikit-learn/issues/21755 */display: inline-block !important;position: relative;}#sk-container-id-1 div.sk-text-repr-fallback {display: none;}</style><div id=\"sk-container-id-1\" class=\"sk-top-container\"><div class=\"sk-text-repr-fallback\"><pre>LinearRegression()</pre><b>In a Jupyter environment, please rerun this cell to show the HTML representation or trust the notebook. <br />On GitHub, the HTML representation is unable to render, please try loading this page with nbviewer.org.</b></div><div class=\"sk-container\" hidden><div class=\"sk-item\"><div class=\"sk-estimator sk-toggleable\"><input class=\"sk-toggleable__control sk-hidden--visually\" id=\"sk-estimator-id-1\" type=\"checkbox\" checked><label for=\"sk-estimator-id-1\" class=\"sk-toggleable__label sk-toggleable__label-arrow\">LinearRegression</label><div class=\"sk-toggleable__content\"><pre>LinearRegression()</pre></div></div></div></div></div>"
      ],
      "text/plain": [
       "LinearRegression()"
      ]
     },
     "execution_count": 9,
     "metadata": {},
     "output_type": "execute_result"
    }
   ],
   "source": [
    "x = np.array(data[\"x\"]).reshape((-1, 1))\n",
    "y = np.array(data[\"y\"]).reshape((-1, 1))\n",
    "from sklearn.linear_model import LinearRegression\n",
    "model = LinearRegression()\n",
    "model.fit(x,y) "
   ]
  },
  {
   "cell_type": "code",
   "execution_count": 11,
   "id": "754783a5",
   "metadata": {},
   "outputs": [
    {
     "name": "stdout",
     "output_type": "stream",
     "text": [
      "intercept :  [1.0037798]\n",
      "slope:  [[1.00095704]]\n"
     ]
    }
   ],
   "source": [
    "print(\"intercept : \", model.intercept_)\n",
    "print(\"slope: \", model.coef_)"
   ]
  },
  {
   "cell_type": "markdown",
   "id": "3ad54f58",
   "metadata": {},
   "source": [
    "# SKLEARN"
   ]
  },
  {
   "cell_type": "code",
   "execution_count": 20,
   "id": "bc546efe",
   "metadata": {},
   "outputs": [
    {
     "name": "stdout",
     "output_type": "stream",
     "text": [
      "mean of x =  0.500604599455905\n",
      "mean of y =  1.504863498755579\n"
     ]
    }
   ],
   "source": [
    "x_mean = data[\"x\"].mean()\n",
    "y_mean = data[\"y\"].mean()\n",
    "print(\"mean of x = \", x_mean)\n",
    "print(\"mean of y = \", y_mean)"
   ]
  },
  {
   "cell_type": "code",
   "execution_count": 21,
   "id": "471cbab9",
   "metadata": {},
   "outputs": [
    {
     "name": "stdout",
     "output_type": "stream",
     "text": [
      "slope, m =  1.0009570354768205\n"
     ]
    }
   ],
   "source": [
    "size = data.shape[0]\n",
    "numerator = 0\n",
    "denominator = 0\n",
    "for i in range(size):\n",
    "    numerator += ( (data[\"x\"][i] * data[\"y\"][i]) - (y_mean * data[\"x\"][i]) )\n",
    "    denominator += ( (data[\"x\"][i] * data[\"x\"][i]) - (x_mean * data[\"x\"][i]) )\n",
    "m = numerator/denominator\n",
    "print(\"slope, m = \", m)"
   ]
  },
  {
   "cell_type": "code",
   "execution_count": 22,
   "id": "d150eb70",
   "metadata": {},
   "outputs": [
    {
     "name": "stdout",
     "output_type": "stream",
     "text": [
      "intercept, c =  1.0037798029381353\n"
     ]
    }
   ],
   "source": [
    "c = y_mean - (m * x_mean)    \n",
    "print(\"intercept, c = \", c)"
   ]
  },
  {
   "cell_type": "code",
   "execution_count": 23,
   "id": "cbe4ebef",
   "metadata": {},
   "outputs": [
    {
     "data": {
      "text/plain": [
       "0      1.421201\n",
       "1      1.724794\n",
       "2      1.003894\n",
       "3      1.306402\n",
       "4      1.150676\n",
       "         ...   \n",
       "995    1.979116\n",
       "996    1.315781\n",
       "997    1.673216\n",
       "998    1.330059\n",
       "999    1.778998\n",
       "Name: y_pred, Length: 1000, dtype: float64"
      ]
     },
     "execution_count": 23,
     "metadata": {},
     "output_type": "execute_result"
    }
   ],
   "source": [
    "y_pred = []\n",
    "for i in range(size):\n",
    "    y_pred.append( (m * data[\"x\"][i]) + c )\n",
    "data[\"y_pred\"] = y_pred\n",
    "data[\"y_pred\"]"
   ]
  },
  {
   "cell_type": "code",
   "execution_count": 24,
   "id": "bcfb7cef",
   "metadata": {},
   "outputs": [
    {
     "data": {
      "text/plain": [
       "<matplotlib.collections.PathCollection at 0x2bbcbddfa00>"
      ]
     },
     "execution_count": 24,
     "metadata": {},
     "output_type": "execute_result"
    },
    {
     "data": {
      "image/png": "[encoded data removed]",
      "text/plain": [
       "<Figure size 640x480 with 1 Axes>"
      ]
     },
     "metadata": {},
     "output_type": "display_data"
    }
   ],
   "source": [
    "plt.plot(data[\"x\"], data[\"y_pred\"])\n",
    "plt.scatter(data[\"x\"], data[\"y\"], c = \"r\")"
   ]
  },
  {
   "cell_type": "code",
   "execution_count": 25,
   "id": "ecfcb231",
   "metadata": {},
   "outputs": [
    {
     "name": "stdout",
     "output_type": "stream",
     "text": [
      "Mean squared error =  0.008399348466779383\n"
     ]
    }
   ],
   "source": [
    "mse = 0\n",
    "for i in range(size):\n",
    "    mse += (data[\"y\"][i] - data[\"y_pred\"][i]) ** 2\n",
    "mse = mse/size\n",
    "print(\"Mean squared error = \", mse)"
   ]
  },
  {
   "cell_type": "code",
   "execution_count": 26,
   "id": "05583de3",
   "metadata": {},
   "outputs": [
    {
     "name": "stdout",
     "output_type": "stream",
     "text": [
      "Root mean square error =  0.09164795942507058\n"
     ]
    }
   ],
   "source": [
    "rmse = mse ** 0.5\n",
    "print(\"Root mean square error = \", rmse)"
   ]
  },
  {
   "cell_type": "code",
   "execution_count": 27,
   "id": "c0e12d40",
   "metadata": {},
   "outputs": [
    {
     "name": "stdout",
     "output_type": "stream",
     "text": [
      "Mean absolute error =  0.07262068679548393\n"
     ]
    }
   ],
   "source": [
    "mae = 0\n",
    "for i in range(size):\n",
    "    mae += abs((data[\"y\"][i] - data[\"y_pred\"][i]))\n",
    "mae = mae/size\n",
    "print(\"Mean absolute error = \", mae)"
   ]
  },
  {
   "cell_type": "code",
   "execution_count": null,
   "id": "454d2e7f",
   "metadata": {},
   "outputs": [],
   "source": []
  }
 ],
 "metadata": {
  "kernelspec": {
   "display_name": "Python 3 (ipykernel)",
   "language": "python",
   "name": "python3"
  },
  "language_info": {
   "codemirror_mode": {
    "name": "ipython",
    "version": 3
   },
   "file_extension": ".py",
   "mimetype": "text/x-python",
   "name": "python",
   "nbconvert_exporter": "python",
   "pygments_lexer": "ipython3",
   "version": "3.10.6"
  }
 },
 "nbformat": 4,
 "nbformat_minor": 5
}
